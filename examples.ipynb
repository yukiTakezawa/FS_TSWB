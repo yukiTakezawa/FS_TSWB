{
 "cells": [
  {
   "cell_type": "code",
   "execution_count": 1,
   "metadata": {},
   "outputs": [],
   "source": [
    "from src.preprocess import *\n",
    "from src.clustering_tree import *\n",
    "from src.slicing_chain import *\n",
    "from ot.bregman import barycenter_sinkhorn\n",
    "import matplotlib.pyplot as plt\n",
    "%matplotlib inline"
   ]
  },
  {
   "cell_type": "code",
   "execution_count": 2,
   "metadata": {},
   "outputs": [],
   "source": [
    "# download mnist dataset.\n",
    "!wget www.di.ens.fr/~lelarge/MNIST.tar.gz -P data/\n",
    "!tar -zxvf data/MNIST.tar.gz -C data/"
   ]
  },
  {
   "cell_type": "markdown",
   "metadata": {},
   "source": [
    "# MNIST (28 * 28 pixels)"
   ]
  },
  {
   "cell_type": "code",
   "execution_count": 3,
   "metadata": {},
   "outputs": [],
   "source": [
    "mnist = MNIST()\n",
    "support = mnist.get_support()\n",
    "data = mnist.get_data(4)"
   ]
  },
  {
   "cell_type": "markdown",
   "metadata": {},
   "source": [
    "## FS-TSWB (FastPSD)"
   ]
  },
  {
   "cell_type": "code",
   "execution_count": 4,
   "metadata": {},
   "outputs": [
    {
     "name": "stderr",
     "output_type": "stream",
     "text": [
      "100%|██████████| 1/1 [00:00<00:00,  2.80it/s]\n",
      "100%|██████████| 1500/1500 [00:05<00:00, 254.55it/s]\n"
     ]
    },
    {
     "data": {
      "text/plain": [
       "Text(0.5, 1.0, 'FS-TSWB (T=1)')"
      ]
     },
     "execution_count": 4,
     "metadata": {},
     "output_type": "execute_result"
    },
    {
     "data": {
      "image/png": "[encoded data removed]",
      "text/plain": [
       "<Figure size 432x288 with 1 Axes>"
      ]
     },
     "metadata": {
      "needs_background": "light"
     },
     "output_type": "display_data"
    }
   ],
   "source": [
    "tree = ClusteringTree(support)\n",
    "fs_twb = tree.barycenter(data)\n",
    "plt.imshow(fs_twb.reshape(28, 28), cmap=\"Greys\")\n",
    "plt.title(\"FS-TSWB (T=1)\")"
   ]
  },
  {
   "cell_type": "code",
   "execution_count": 5,
   "metadata": {},
   "outputs": [
    {
     "name": "stderr",
     "output_type": "stream",
     "text": [
      "100%|██████████| 5/5 [00:01<00:00,  2.92it/s]\n",
      "100%|██████████| 1500/1500 [00:25<00:00, 59.82it/s]\n"
     ]
    },
    {
     "data": {
      "text/plain": [
       "Text(0.5, 1.0, 'FS-TSWB (T=5)')"
      ]
     },
     "execution_count": 5,
     "metadata": {},
     "output_type": "execute_result"
    },
    {
     "data": {
      "image/png": "[encoded data removed]",
      "text/plain": [
       "<Figure size 432x288 with 1 Axes>"
      ]
     },
     "metadata": {
      "needs_background": "light"
     },
     "output_type": "display_data"
    }
   ],
   "source": [
    "tree = ClusteringTree(support, n_slice=5)\n",
    "fs_tswb = tree.barycenter(data)\n",
    "plt.imshow(fs_tswb.reshape(28, 28), cmap=\"Greys\")\n",
    "plt.title(\"FS-TSWB (T=5)\")"
   ]
  },
  {
   "cell_type": "markdown",
   "metadata": {},
   "source": [
    "## FS-SWB (FastPSD)"
   ]
  },
  {
   "cell_type": "code",
   "execution_count": 6,
   "metadata": {},
   "outputs": [
    {
     "name": "stderr",
     "output_type": "stream",
     "text": [
      "100%|██████████| 1/1 [00:00<00:00, 18.40it/s]\n",
      "100%|██████████| 1500/1500 [00:03<00:00, 391.91it/s]\n"
     ]
    },
    {
     "data": {
      "text/plain": [
       "Text(0.5, 1.0, 'FS-SWB (T=1)')"
      ]
     },
     "execution_count": 6,
     "metadata": {},
     "output_type": "execute_result"
    },
    {
     "data": {
      "image/png": "[encoded data removed]",
      "text/plain": [
       "<Figure size 432x288 with 1 Axes>"
      ]
     },
     "metadata": {
      "needs_background": "light"
     },
     "output_type": "display_data"
    }
   ],
   "source": [
    "chain = SlicingChain(support)\n",
    "fs_swb = chain.barycenter(data)\n",
    "plt.imshow(fs_swb.reshape(28, 28), cmap=\"Greys\")\n",
    "plt.title(\"FS-SWB (T=1)\")"
   ]
  },
  {
   "cell_type": "code",
   "execution_count": 7,
   "metadata": {},
   "outputs": [
    {
     "name": "stderr",
     "output_type": "stream",
     "text": [
      "100%|██████████| 5/5 [00:00<00:00, 22.55it/s]\n",
      "100%|██████████| 1500/1500 [00:21<00:00, 69.39it/s]\n"
     ]
    },
    {
     "data": {
      "text/plain": [
       "Text(0.5, 1.0, 'FS-SWB (T=5)')"
      ]
     },
     "execution_count": 7,
     "metadata": {},
     "output_type": "execute_result"
    },
    {
     "data": {
      "image/png": "[encoded data removed]",
      "text/plain": [
       "<Figure size 432x288 with 1 Axes>"
      ]
     },
     "metadata": {
      "needs_background": "light"
     },
     "output_type": "display_data"
    }
   ],
   "source": [
    "chains = SlicingChain(support, n_slice=5)\n",
    "fs_swb = chains.barycenter(data)\n",
    "plt.imshow(fs_swb.reshape(28, 28), cmap=\"Greys\")\n",
    "plt.title(\"FS-SWB (T=5)\")"
   ]
  },
  {
   "cell_type": "markdown",
   "metadata": {},
   "source": [
    "# FS-WB (IBP)"
   ]
  },
  {
   "cell_type": "code",
   "execution_count": 8,
   "metadata": {},
   "outputs": [
    {
     "name": "stderr",
     "output_type": "stream",
     "text": [
      "100%|██████████| 784/784 [00:00<00:00, 42410.42it/s]\n",
      "100%|██████████| 784/784 [00:00<00:00, 9576.12it/s]\n"
     ]
    },
    {
     "data": {
      "text/plain": [
       "Text(0.5, 1.0, 'IBP')"
      ]
     },
     "execution_count": 8,
     "metadata": {},
     "output_type": "execute_result"
    },
    {
     "data": {
      "image/png": "[encoded data removed]",
      "text/plain": [
       "<Figure size 432x288 with 1 Axes>"
      ]
     },
     "metadata": {
      "needs_background": "light"
     },
     "output_type": "display_data"
    }
   ],
   "source": [
    "M = mnist.compute_M()\n",
    "a_list = np.array(data).T\n",
    "ibp_bar = barycenter_sinkhorn(a_list, M, 0.01)\n",
    "plt.imshow(ibp_bar.reshape(28, 28), cmap=\"Greys\")\n",
    "plt.title(\"IBP\")"
   ]
  },
  {
   "cell_type": "markdown",
   "metadata": {},
   "source": [
    "# MNIST (56 * 56 pixels)"
   ]
  },
  {
   "cell_type": "code",
   "execution_count": 9,
   "metadata": {},
   "outputs": [],
   "source": [
    "mnist = MNIST(56)\n",
    "support = mnist.get_support()\n",
    "data = mnist.get_data(4)[:1000]"
   ]
  },
  {
   "cell_type": "markdown",
   "metadata": {},
   "source": [
    "## FS-TSWB (FastPSD)"
   ]
  },
  {
   "cell_type": "code",
   "execution_count": 10,
   "metadata": {},
   "outputs": [
    {
     "name": "stderr",
     "output_type": "stream",
     "text": [
      "100%|██████████| 1/1 [00:01<00:00,  1.90s/it]\n",
      "100%|██████████| 1500/1500 [00:19<00:00, 77.89it/s]\n"
     ]
    },
    {
     "data": {
      "text/plain": [
       "Text(0.5, 1.0, 'FS-TSWB (T=1)')"
      ]
     },
     "execution_count": 10,
     "metadata": {},
     "output_type": "execute_result"
    },
    {
     "data": {
      "image/png": "[encoded data removed]",
      "text/plain": [
       "<Figure size 432x288 with 1 Axes>"
      ]
     },
     "metadata": {
      "needs_background": "light"
     },
     "output_type": "display_data"
    }
   ],
   "source": [
    "tree = ClusteringTree(support)\n",
    "fs_twb = tree.barycenter(data)\n",
    "plt.imshow(fs_twb.reshape(56, 56), cmap=\"Greys\")\n",
    "plt.title(\"FS-TSWB (T=1)\")"
   ]
  },
  {
   "cell_type": "code",
   "execution_count": 11,
   "metadata": {},
   "outputs": [
    {
     "name": "stderr",
     "output_type": "stream",
     "text": [
      "100%|██████████| 5/5 [00:08<00:00,  1.76s/it]\n",
      "100%|██████████| 1500/1500 [01:30<00:00, 16.51it/s]\n"
     ]
    },
    {
     "data": {
      "text/plain": [
       "Text(0.5, 1.0, 'FS-TSWB (T=5)')"
      ]
     },
     "execution_count": 11,
     "metadata": {},
     "output_type": "execute_result"
    },
    {
     "data": {
      "image/png": "[encoded data removed]",
      "text/plain": [
       "<Figure size 432x288 with 1 Axes>"
      ]
     },
     "metadata": {
      "needs_background": "light"
     },
     "output_type": "display_data"
    }
   ],
   "source": [
    "tree = ClusteringTree(support, n_slice=5)\n",
    "fs_twb = tree.barycenter(data)\n",
    "plt.imshow(fs_twb.reshape(56, 56), cmap=\"Greys\")\n",
    "plt.title(\"FS-TSWB (T=5)\")"
   ]
  },
  {
   "cell_type": "markdown",
   "metadata": {},
   "source": [
    "## FS-SWB (FastPSD)"
   ]
  },
  {
   "cell_type": "code",
   "execution_count": 12,
   "metadata": {},
   "outputs": [
    {
     "name": "stderr",
     "output_type": "stream",
     "text": [
      "100%|██████████| 1/1 [00:00<00:00,  1.04it/s]\n",
      "100%|██████████| 1500/1500 [00:13<00:00, 112.86it/s]\n"
     ]
    },
    {
     "data": {
      "text/plain": [
       "Text(0.5, 1.0, 'FS-SWB (T=1)')"
      ]
     },
     "execution_count": 12,
     "metadata": {},
     "output_type": "execute_result"
    },
    {
     "data": {
      "image/png": "[encoded data removed]",
      "text/plain": [
       "<Figure size 432x288 with 1 Axes>"
      ]
     },
     "metadata": {
      "needs_background": "light"
     },
     "output_type": "display_data"
    }
   ],
   "source": [
    "chain = SlicingChain(support)\n",
    "fs_swb = chain.barycenter(data)\n",
    "plt.imshow(fs_swb.reshape(56, 56), cmap=\"Greys\")\n",
    "plt.title(\"FS-SWB (T=1)\")"
   ]
  },
  {
   "cell_type": "code",
   "execution_count": 13,
   "metadata": {},
   "outputs": [
    {
     "name": "stderr",
     "output_type": "stream",
     "text": [
      "100%|██████████| 5/5 [00:04<00:00,  1.04it/s]\n",
      "100%|██████████| 1500/1500 [01:17<00:00, 19.42it/s]\n"
     ]
    },
    {
     "data": {
      "text/plain": [
       "Text(0.5, 1.0, 'FS-SWB (T=5)')"
      ]
     },
     "execution_count": 13,
     "metadata": {},
     "output_type": "execute_result"
    },
    {
     "data": {
      "image/png": "[encoded data removed]",
      "text/plain": [
       "<Figure size 432x288 with 1 Axes>"
      ]
     },
     "metadata": {
      "needs_background": "light"
     },
     "output_type": "display_data"
    }
   ],
   "source": [
    "chain = SlicingChain(support, n_slice=5)\n",
    "fs_swb = chain.barycenter(data)\n",
    "plt.imshow(fs_swb.reshape(56, 56), cmap=\"Greys\")\n",
    "plt.title(\"FS-SWB (T=5)\")"
   ]
  },
  {
   "cell_type": "markdown",
   "metadata": {},
   "source": [
    "# FS-WB (IBP)"
   ]
  },
  {
   "cell_type": "code",
   "execution_count": 14,
   "metadata": {},
   "outputs": [
    {
     "name": "stderr",
     "output_type": "stream",
     "text": [
      "100%|██████████| 3136/3136 [00:00<00:00, 58662.64it/s]\n",
      "100%|██████████| 3136/3136 [00:02<00:00, 1239.15it/s]\n"
     ]
    },
    {
     "data": {
      "text/plain": [
       "Text(0.5, 1.0, 'IBP')"
      ]
     },
     "execution_count": 14,
     "metadata": {},
     "output_type": "execute_result"
    },
    {
     "data": {
      "image/png": "[encoded data removed]",
      "text/plain": [
       "<Figure size 432x288 with 1 Axes>"
      ]
     },
     "metadata": {
      "needs_background": "light"
     },
     "output_type": "display_data"
    }
   ],
   "source": [
    "M = mnist.compute_M()\n",
    "a_list = np.array(data).T\n",
    "ibp_bar = barycenter_sinkhorn(a_list, M, 0.01)\n",
    "plt.imshow(ibp_bar.reshape(56, 56), cmap=\"Greys\")\n",
    "plt.title(\"IBP\")"
   ]
  }
 ],
 "metadata": {
  "kernelspec": {
   "display_name": "Python 3",
   "language": "python",
   "name": "python3"
  },
  "language_info": {
   "codemirror_mode": {
    "name": "ipython",
    "version": 3
   },
   "file_extension": ".py",
   "mimetype": "text/x-python",
   "name": "python",
   "nbconvert_exporter": "python",
   "pygments_lexer": "ipython3",
   "version": "3.7.4"
  }
 },
 "nbformat": 4,
 "nbformat_minor": 2
}
