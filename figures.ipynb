{
 "cells": [
  {
   "cell_type": "code",
   "execution_count": 1,
   "metadata": {},
   "outputs": [],
   "source": [
    "import matplotlib.pyplot as plt\n",
    "import pickle\n",
    "import math"
   ]
  },
  {
   "cell_type": "code",
   "execution_count": null,
   "metadata": {},
   "outputs": [],
   "source": []
  },
  {
   "cell_type": "markdown",
   "metadata": {},
   "source": [
    "# Time Consumption"
   ]
  },
  {
   "cell_type": "markdown",
   "metadata": {},
   "source": [
    "## Number of Supports"
   ]
  },
  {
   "cell_type": "code",
   "execution_count": null,
   "metadata": {},
   "outputs": [],
   "source": [
    "tree_time_dic = pickle.load(open(\"exp/mnist_time_support_FastPSD.pk\", \"rb\"))\n",
    "naive_tree_time_dic = pickle.load(open(\"exp/mnist_time_support_PSD.pk\", \"rb\"))\n",
    "ibp_time_dic = pickle.load(open(\"exp/mnist_time_support_IBP.pk\", \"rb\"))\n",
    "n_pixels = [28*math.sqrt(1/2), 28, 28*math.sqrt(2), 28*math.sqrt(3), 28*math.sqrt(4), 28*math.sqrt(5), 28*math.sqrt(6)]\n",
    "x = [int(n_pixel)**2 for n_pixel in n_pixels]"
   ]
  },
  {
   "cell_type": "code",
   "execution_count": null,
   "metadata": {},
   "outputs": [],
   "source": [
    "tree_time_list = []\n",
    "naive_tree_time_list = []\n",
    "ibp_time_list = []\n",
    "\n",
    "for key in tree_time_dic.keys():\n",
    "    tree_time_list.append(sum(tree_time_dic[key]) / len(tree_time_dic[key]))\n",
    "    naive_tree_time_list.append(sum(naive_tree_time_dic[key]) / len(naive_tree_time_dic[key]))\n",
    "    ibp_time_list.append(sum(ibp_time_dic[key]) / len(ibp_time_dic[key]))"
   ]
  },
  {
   "cell_type": "code",
   "execution_count": null,
   "metadata": {},
   "outputs": [],
   "source": [
    "fig = plt.figure(figsize=(5, 6))\n",
    "plt.plot(x, tree_time_list, color='blue', label=\"FS-TSWB (FastPSD)\", marker='o')\n",
    "#plt.plot([size**2 for size in n_pixels], fast_quadtree_time_list, marker='o', color='blue')\n",
    "plt.plot(x, naive_tree_time_list, color='green', label=\"FS-TSWB (PSD)\", marker='s')\n",
    "#plt.plot([size**2 for size in n_pixels], quadtree_time_list, marker='o', color='green')\n",
    "plt.plot(x, ibp_time_list, color='r', label=\"FS-WB (IBP)\", marker='v')\n",
    "#plt.plot([size**2 for size in n_pixels], ibp_time_list, marker='o', color='r')\n",
    "plt.xlabel('number of supports', fontsize=20)\n",
    "plt.ylabel('time consumption [seconds]', fontsize=20)\n",
    "plt.xticks(x)\n",
    "plt.xticks(rotation=20)\n",
    "plt.legend(fontsize=14)\n",
    "plt.tick_params(labelsize=14)\n",
    "#plt.yscale(\"log\")\n",
    "#plt.xscale(\"log\""
   ]
  },
  {
   "cell_type": "markdown",
   "metadata": {},
   "source": [
    "## Number of Samples"
   ]
  },
  {
   "cell_type": "code",
   "execution_count": null,
   "metadata": {},
   "outputs": [],
   "source": [
    "tree_time_dic = pickle.load(open(\"exp/mnist_time_sample_FastPSD.pk\", \"rb\"))\n",
    "naive_tree_time_dic = pickle.load(open(\"exp/mnist_time_sample_PSD.pk\", \"rb\"))\n",
    "ibp_time_dic = pickle.load(open(\"exp/mnist_time_sample_IBP.pk\", \"rb\"))\n",
    "n_samples = [100, 1000, 2000, 3000, 4000, 5000] "
   ]
  },
  {
   "cell_type": "code",
   "execution_count": null,
   "metadata": {},
   "outputs": [],
   "source": [
    "tree_time_list = []\n",
    "naive_tree_time_list = []\n",
    "ibp_time_list = []\n",
    "\n",
    "for key in tree_time_dic.keys():\n",
    "    tree_time_list.append(sum(tree_time_dic[key]) / len(tree_time_dic[key]))\n",
    "    naive_tree_time_list.append(sum(naive_tree_time_dic[key]) / len(naive_tree_time_dic[key]))\n",
    "    ibp_time_list.append(sum(ibp_time_dic[key]) / len(ibp_time_dic[key]))"
   ]
  },
  {
   "cell_type": "code",
   "execution_count": null,
   "metadata": {},
   "outputs": [],
   "source": [
    "fig = plt.figure(figsize=(5, 6))\n",
    "plt.plot(n_samples, tree_time_list, color='blue', label=\"FS-TSWB (FastPSD)\", marker=\"o\")\n",
    "#plt.plot(n_samples, tree_time_list, 'o', color='blue', markersize=4)\n",
    "plt.plot(n_samples, naive_tree_time_list, color='green', label=\"FS-TSWB (PSD)\", marker=\"s\")\n",
    "#plt.plot(n_samples, naive_tree_time_list, 'o', color='green', markersize=4)\n",
    "plt.plot(n_samples, ibp_time_list, color='r', label=\"FS-WB (IBP)\", marker=\"v\")\n",
    "#plt.plot(n_samples, ibp_time_list, 'o', color='r', markersize=4)\n",
    "\n",
    "plt.xlabel('number of samples', fontsize=20)\n",
    "plt.ylabel('time consumption [seconds]', fontsize=20)\n",
    "plt.xticks(n_samples)\n",
    "plt.xticks(rotation=20)\n",
    "plt.legend(fontsize=14)\n",
    "plt.tick_params(labelsize=14)"
   ]
  },
  {
   "cell_type": "markdown",
   "metadata": {},
   "source": [
    "# Memory Consumption"
   ]
  },
  {
   "cell_type": "markdown",
   "metadata": {},
   "source": [
    "## Number of Supports"
   ]
  },
  {
   "cell_type": "code",
   "execution_count": null,
   "metadata": {},
   "outputs": [],
   "source": [
    "tree_mem = pickle.load(open(\"exp/mnist_memory_support_FastPSD.pk\", \"rb\"))\n",
    "naive_tree_mem = pickle.load(open(\"exp/mnist_memory_support_PSD.pk\", \"rb\"))\n",
    "ibp_mem = pickle.load(open(\"exp/mnist_memory_support_IBP.pk\", \"rb\"))"
   ]
  },
  {
   "cell_type": "code",
   "execution_count": null,
   "metadata": {},
   "outputs": [],
   "source": [
    "mean_tree_mem = []\n",
    "mean_naive_tree_mem = []\n",
    "mean_ibp_mem = []\n",
    "\n",
    "for key in tree_mem.keys():\n",
    "    mean_tree_mem.append(sum(tree_mem[key]) / len(tree_mem[key]))\n",
    "    mean_naive_tree_mem.append(sum(naive_tree_mem[key]) / len(naive_tree_mem[key]))\n",
    "    mean_ibp_mem.append(sum(ibp_mem[key]) / len(ibp_mem[key]))"
   ]
  },
  {
   "cell_type": "code",
   "execution_count": null,
   "metadata": {},
   "outputs": [],
   "source": [
    "n_pixels = [28*math.sqrt(1/2), 28, 28*math.sqrt(2), 28*math.sqrt(3), 28*math.sqrt(4), 28*math.sqrt(5), 28*math.sqrt(6)]\n",
    "x = [int(n_pixel)**2 for n_pixel in n_pixels]"
   ]
  },
  {
   "cell_type": "code",
   "execution_count": null,
   "metadata": {},
   "outputs": [],
   "source": [
    "fig = plt.figure(figsize=(5, 6))\n",
    "\n",
    "plt.plot(x, mean_tree_mem, marker='o', label=\"FS-TSWB (FastPSD)\", color=\"blue\")\n",
    "plt.plot(x, mean_naive_tree_mem, marker='s', label=\"FS-TSWB (PSD)\", color=\"green\")\n",
    "plt.plot(x, mean_ibp_mem, marker='v', label=\"FS-WB (IBP)\", color=\"red\")\n",
    "plt.xlabel(\"number of supports\", fontsize=20)\n",
    "plt.ylabel(\"memory consumption [MB]\", fontsize=20)\n",
    "plt.xticks(x, fontsize=14)\n",
    "plt.xticks(rotation=20)\n",
    "plt.yticks(fontsize=14)\n",
    "plt.legend(fontsize=14)#, bbox_to_anchor=(1.00, 0.7), loc=\"upper right\")"
   ]
  },
  {
   "cell_type": "markdown",
   "metadata": {},
   "source": [
    "# Number of Samples"
   ]
  },
  {
   "cell_type": "code",
   "execution_count": null,
   "metadata": {},
   "outputs": [],
   "source": [
    "tree_mem = pickle.load(open(\"exp/mnist_memory_sample_FastPSD.pk\", \"rb\"))\n",
    "naive_tree_mem = pickle.load(open(\"exp/mnist_memory_sample_PSD.pk\", \"rb\"))\n",
    "ibp_mem = pickle.load(open(\"exp/mnist_memory_sample_IBP.pk\", \"rb\"))"
   ]
  },
  {
   "cell_type": "code",
   "execution_count": null,
   "metadata": {},
   "outputs": [],
   "source": [
    "mean_tree_mem = []\n",
    "mean_naive_tree_mem = []\n",
    "mean_ibp_mem = []\n",
    "\n",
    "for key in tree_mem.keys():\n",
    "    mean_tree_mem.append(sum(tree_mem[key]) / len(tree_mem[key]))\n",
    "    mean_naive_tree_mem.append(sum(naive_tree_mem[key]) / len(naive_tree_mem[key]))\n",
    "    mean_ibp_mem.append(sum(ibp_mem[key]) / len(ibp_mem[key]))"
   ]
  },
  {
   "cell_type": "code",
   "execution_count": null,
   "metadata": {},
   "outputs": [],
   "source": [
    "x = [500, 1000, 2000, 3000, 4000, 5000]"
   ]
  },
  {
   "cell_type": "code",
   "execution_count": null,
   "metadata": {},
   "outputs": [],
   "source": [
    "fig = plt.figure(figsize=(5, 6))\n",
    "\n",
    "plt.plot(x, mean_tree_mem, marker='o', label=\"FS-TSWB (FastPSD)\", color=\"blue\")\n",
    "plt.plot(x, mean_naive_tree_mem, marker='s', label=\"FS-TSWB (PSD)\", color=\"green\")\n",
    "plt.plot(x, mean_ibp_mem, marker='v', label=\"FS-WB (IBP)\", color=\"red\")\n",
    "plt.xlabel(\"number of samples\", fontsize=20)\n",
    "plt.ylabel(\"memory consumption [MB]\", fontsize=20)\n",
    "plt.xticks(x, fontsize=14)\n",
    "plt.xticks(rotation=20)\n",
    "plt.yticks(fontsize=14)\n",
    "plt.legend(fontsize=14)#, bbox_to_anchor=(1.00, 0.7), loc=\"upper right\")"
   ]
  }
 ],
 "metadata": {
  "kernelspec": {
   "display_name": "Python 3",
   "language": "python",
   "name": "python3"
  },
  "language_info": {
   "codemirror_mode": {
    "name": "ipython",
    "version": 3
   },
   "file_extension": ".py",
   "mimetype": "text/x-python",
   "name": "python",
   "nbconvert_exporter": "python",
   "pygments_lexer": "ipython3",
   "version": "3.7.4"
  }
 },
 "nbformat": 4,
 "nbformat_minor": 5
}
